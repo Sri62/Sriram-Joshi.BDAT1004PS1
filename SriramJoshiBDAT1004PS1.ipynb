{
 "cells": [
  {
   "cell_type": "markdown",
   "id": "776d1214",
   "metadata": {},
   "source": [
    "1.What data type is each of the following (evaluate where necessary)?\n",
    "\n"
   ]
  },
  {
   "cell_type": "markdown",
   "id": "00c7e2eb",
   "metadata": {},
   "source": [
    "5      Integer type\n",
    "5.0 -  Float type\n",
    "5 > 1  Boolean type\n",
    "'5'    String type \n",
    "5 * 2  Integer type\n",
    "'5'* 2 String type\n",
    "'5' + '2' String type\n",
    "5 / 2 Float type\n",
    "5% 2  Integer type\n",
    "{5, 2, 1} Set \n",
    "5==3 Boolean type\n",
    "Pi(thenumber) Floating type"
   ]
  },
  {
   "cell_type": "markdown",
   "id": "1236e889",
   "metadata": {},
   "source": [
    "2.Write (and evaluate) python expressions that answer these questions:\n",
    "\n",
    "a. How many letters are there in 'Supercalifragilisticexpialidocious'?"
   ]
  },
  {
   "cell_type": "code",
   "execution_count": 6,
   "id": "cd106932",
   "metadata": {},
   "outputs": [
    {
     "name": "stdout",
     "output_type": "stream",
     "text": [
      "Number of letters in Supercalifragilisticexpialidocious: 34\n"
     ]
    }
   ],
   "source": [
    "word = 'Supercalifragilisticexpialidocious'\n",
    "lettersCount = len(word)\n",
    "print(\"Number of letters in Supercalifragilisticexpialidocious:\", lettersCount)"
   ]
  },
  {
   "cell_type": "markdown",
   "id": "c3b75d62",
   "metadata": {},
   "source": [
    "2.b. Does 'Supercalifragilisticexpialidocious' contain 'ice' as a substring?\n"
   ]
  },
  {
   "cell_type": "code",
   "execution_count": 7,
   "id": "59ac82d4",
   "metadata": {},
   "outputs": [
    {
     "name": "stdout",
     "output_type": "stream",
     "text": [
      "Supercalifragilisticexpialidocious has the sequence ice in it\n"
     ]
    }
   ],
   "source": [
    "if ('ice' in 'Supercalifragilisticexpialidocious'):\n",
    "    print('Supercalifragilisticexpialidocious has the sequence ice in it')\n",
    "else:\n",
    "    print('Supercalifragilisticexpialidocious does not contain ice')"
   ]
  },
  {
   "cell_type": "markdown",
   "id": "3a5a3e66",
   "metadata": {},
   "source": [
    "2.c. Which of the following words is the longest:Supercalifragilisticexpialidocious, Honorificabilitudinitatibus, orBababadalgharaghtakamminarronnkonn?\n",
    "\n"
   ]
  },
  {
   "cell_type": "code",
   "execution_count": 11,
   "id": "c020a5a0",
   "metadata": {},
   "outputs": [
    {
     "name": "stdout",
     "output_type": "stream",
     "text": [
      "Supercalifragilisticexpialidocious is the longest word\n"
     ]
    }
   ],
   "source": [
    "word_1 = 'Supercalifragilisticexpialidocious'\n",
    "word_2 = 'Honorificabilitudinitatibus'\n",
    "word_3 = 'Bababadalgharaghtakamminarronnkonn'\n",
    "lengthofword1 = len(word_1)\n",
    "lengthofword2 = len(word_2)\n",
    "lengthofword3 = len(word_3)\n",
    "longest_word = max(lengthofword1, lengthofword2, lengthofword3)\n",
    "if longest_word == lengthofword1:\n",
    "    print(word_1, \"is the longest word\")\n",
    "elif longest_word == lengthofword2:\n",
    "    print(word_2, \"is the longest word\")\n",
    "else:\n",
    "    print(word_3, \"is the longest word\")\n"
   ]
  },
  {
   "cell_type": "markdown",
   "id": "3e265002",
   "metadata": {},
   "source": [
    "2.d. Which composer comes first in the dictionary: 'Berlioz', 'Borodin', 'Brian','Bartok', 'Bellini', 'Buxtehude', 'Bernstein'. Which one comes last?\n"
   ]
  },
  {
   "cell_type": "code",
   "execution_count": 12,
   "id": "1fb4207b",
   "metadata": {},
   "outputs": [
    {
     "name": "stdout",
     "output_type": "stream",
     "text": [
      "The composer that comes first is: Bartok\n",
      "The composer that comes last is: Buxtehude\n"
     ]
    }
   ],
   "source": [
    "composers_list = ['Berlioz', 'Borodin', 'Brian', 'Bartok', 'Bellini', 'Buxtehude', 'Bernstein']\n",
    "first_composer = min(composers_list)\n",
    "last_composer = max(composers_list)\n",
    "print(\"The composer that comes first is:\", first_composer)\n",
    "print(\"The composer that comes last is:\", last_composer)"
   ]
  },
  {
   "cell_type": "markdown",
   "id": "6289749a",
   "metadata": {},
   "source": [
    "3.Implement function triangleArea(a,b,c) that takes as input the lengths of the 3sides of a triangle and returns the area of the triangle. By Heron's formula, the areaof a triangle with side lengths a, b, and c iss(s - a)(s - b)(s - c) , wheres = (a + b + c) /2.\n"
   ]
  },
  {
   "cell_type": "code",
   "execution_count": 16,
   "id": "0b6bb6e9",
   "metadata": {},
   "outputs": [
    {
     "name": "stdout",
     "output_type": "stream",
     "text": [
      "area of triangle is equals:  1.7320508075688772\n"
     ]
    }
   ],
   "source": [
    "import math\n",
    "def Areaoftriangle(a,b,c):\n",
    "    s = (a+b+c)/2\n",
    "    return math.sqrt(s*(s-a)*(s-b)*(s-c))\n",
    "print(\"area of triangle is equals: \",Areaoftriangle(2,2,2))"
   ]
  },
  {
   "cell_type": "markdown",
   "id": "065eeebd",
   "metadata": {},
   "source": [
    "4.Write a program in python to separate odd and even integers in separate arrays. Goto the editorTest Data :\n",
    "Input the number of elements to be stored in the array :5\n",
    "Input 5 elements in the array :\n",
    "element - 0 : 25\n",
    "element - 1 : 47\n",
    "element - 2 : 42\n",
    "element - 3 : 56\n",
    "element - 4 : 32\n",
    "\n"
   ]
  },
  {
   "cell_type": "code",
   "execution_count": 19,
   "id": "e000b3fb",
   "metadata": {},
   "outputs": [
    {
     "name": "stdout",
     "output_type": "stream",
     "text": [
      "Enter the number of elements in the array: 5\n",
      "element - 0 : 25\n",
      "element - 1 : 42\n",
      "element - 2 : 47\n",
      "element - 3 : 56\n",
      "element - 4 : 22\n",
      "The Even elements are: 42 56 22 \n",
      "The Odd elements are: 25 47 "
     ]
    }
   ],
   "source": [
    "numofelements = int(input(\"Enter the number of elements in the array: \"))\n",
    "even_numbers = []\n",
    "odd_numbers = []\n",
    "\n",
    "for i in range(numofelements):\n",
    "    element = int(input(f\"element - {i} : \"))\n",
    "    \n",
    "    if element % 2 == 0:\n",
    "        even_numbers.append(element)\n",
    "    else:\n",
    "        odd_numbers.append(element)\n",
    "\n",
    "\n",
    "print(\"The Even elements are:\", end=' ')\n",
    "for even in even_numbers:\n",
    "    print(even, end=' ')\n",
    "\n",
    "print(\"\\nThe Odd elements are:\", end=' ')\n",
    "for odd in odd_numbers:\n",
    "    print(odd, end=' ')\n",
    "\n"
   ]
  },
  {
   "cell_type": "markdown",
   "id": "fbd6dc4d",
   "metadata": {},
   "source": [
    "5.a. Write a function inside(x,y,x1,y1,x2,y2) that returns True or False depending on whether the point (x,y) lies in the rectangle with lower leftcorner (x1,y1) and upper right corner (x2,y2).\n"
   ]
  },
  {
   "cell_type": "code",
   "execution_count": 20,
   "id": "39ff45ac",
   "metadata": {},
   "outputs": [
    {
     "data": {
      "text/plain": [
       "True"
      ]
     },
     "execution_count": 20,
     "metadata": {},
     "output_type": "execute_result"
    }
   ],
   "source": [
    "def inside(x,y,x1,y1,x2,y2):\n",
    "    return(x<x2 and x>x1 and y<y2 and y>y1)\n",
    "inside(1,1,0,0,2,3)"
   ]
  },
  {
   "cell_type": "code",
   "execution_count": 21,
   "id": "6c798936",
   "metadata": {},
   "outputs": [
    {
     "data": {
      "text/plain": [
       "False"
      ]
     },
     "execution_count": 21,
     "metadata": {},
     "output_type": "execute_result"
    }
   ],
   "source": [
    "inside(-1,-1,0,0,2,3)\n"
   ]
  },
  {
   "cell_type": "markdown",
   "id": "fbae77e6",
   "metadata": {},
   "source": [
    "5.b. Use function inside() from part a. to write an expression that tests whetherthe point (1,1) lies in both of the following rectangles: one with lower leftcorner (0.3, 0.5) and upper right corner (1.1, 0.7) and the other with lowerleft corner (0.5, 0.2) and upper right corner (1.1, 2)\n"
   ]
  },
  {
   "cell_type": "code",
   "execution_count": 22,
   "id": "7c61e23d",
   "metadata": {},
   "outputs": [
    {
     "name": "stdout",
     "output_type": "stream",
     "text": [
      "False\n"
     ]
    }
   ],
   "source": [
    "evaluate = lambda x,y: inside(x,y,0.3, 0.5,1.1, 0.7) and  inside(x,y,0.5, 0.2,1.1, 2)\n",
    "print(evaluate(1,1))\n"
   ]
  },
  {
   "cell_type": "markdown",
   "id": "5749732e",
   "metadata": {},
   "source": [
    "6.You can turn a word into pig-Latin using the following two rules (simplified):• If the word starts with a consonant, move that letter to the end and append'ay'. For example, 'happy' becomes 'appyhay' and 'pencil' becomes 'encilpay'.• If the word starts with a vowel, simply append 'way' to the end of the word.For example, 'enter' becomes 'enterway' and 'other' becomes 'otherway' . Forour purposes, there are 5 vowels: a, e, i, o, u (so we count y as a consonant).Write a function pig() that takes a word (i.e., a string) as input and returns its pig-Latin form. Your function should still work if the input word contains upper casecharacters. Your output should always be lower case however.\n"
   ]
  },
  {
   "cell_type": "code",
   "execution_count": 23,
   "id": "09aeb8f1",
   "metadata": {},
   "outputs": [
    {
     "data": {
      "text/plain": [
       "'appyhay'"
      ]
     },
     "execution_count": 23,
     "metadata": {},
     "output_type": "execute_result"
    }
   ],
   "source": [
    "def pig(word):\n",
    "    return ( (word+'way').lower()  if word[0].lower()  in ['a','e','i','o','u']  else (word[1:]+ word[0]+'ay').lower() )\n",
    "pig('happy')"
   ]
  },
  {
   "cell_type": "code",
   "execution_count": 24,
   "id": "171aacd9",
   "metadata": {},
   "outputs": [
    {
     "data": {
      "text/plain": [
       "'enterway'"
      ]
     },
     "execution_count": 24,
     "metadata": {},
     "output_type": "execute_result"
    }
   ],
   "source": [
    "pig('Enter')"
   ]
  },
  {
   "cell_type": "markdown",
   "id": "1c409c18",
   "metadata": {},
   "source": [
    "7.File bloodtype1.txt records blood-types of patients (A, B, AB, O or OO) at a clinic.Write a function bldcount() that reads the file with name name and reports (i.e.,prints) how many patients there are in each bloodtype.\n"
   ]
  },
  {
   "cell_type": "code",
   "execution_count": 38,
   "id": "69e5ba31",
   "metadata": {},
   "outputs": [],
   "source": [
    "def bloodcount(file_path):\n",
    "    blood_type_counts = {}\n",
    "    with open(file_path, 'r') as file:\n",
    "\n",
    "        for line in file:\n",
    "            blood_type = line.split()\n",
    "            for blood_group in blood_type:\n",
    "\n",
    "                if blood_group in blood_type_counts:\n",
    "                    blood_type_counts[blood_group] = blood_type_counts[blood_group] + 1\n",
    "                else:\n",
    "                    blood_type_counts[blood_group] = 1\n",
    "    for key,values in  blood_type_counts.items():\n",
    "        print(f\"There are {values} patients of blood type {key}.\")"
   ]
  },
  {
   "cell_type": "code",
   "execution_count": 42,
   "id": "3a828dc3",
   "metadata": {},
   "outputs": [
    {
     "name": "stdout",
     "output_type": "stream",
     "text": [
      "There are 13 patients of blood type AB.\n",
      "There are 1 patients of blood type B.\n",
      "There are 15 patients of blood type O.\n",
      "There are 15 patients of blood type A.\n"
     ]
    }
   ],
   "source": [
    "file_path = r\"C:\\Users\\HP\\Desktop\\BDAT\\SriramJoshi_Blood.txt\" \n",
    "bloodcount(file_path)"
   ]
  },
  {
   "cell_type": "markdown",
   "id": "5875a989",
   "metadata": {},
   "source": [
    "8.Write a function curconv() that takes as input:1. a currency represented using a string (e.g., 'JPY' for the Japanese Yen or'EUR' for the Euro)2. an amountand then converts and returns the amount in US dollars\n"
   ]
  },
  {
   "cell_type": "code",
   "execution_count": 56,
   "id": "d8465bb3",
   "metadata": {},
   "outputs": [],
   "source": [
    "file_path = r\"C:\\Users\\HP\\Desktop\\BDAT\\currencies.txt\"\n",
    "dict_currency_details = {}\n",
    "with open(file_path, 'r') as file:\n",
    "    for line in file:\n",
    "        detailsofcurrency = line.split('\\t')\n",
    "        key=detailsofcurrency[0]\n",
    "        values=detailsofcurrency[1:]\n",
    "        dict_currency_details[key]=values\n",
    "        \n",
    "def curconv(curr,amount):\n",
    "    print(float(dict_currency_details[curr][0])*amount) \n",
    "    "
   ]
  },
  {
   "cell_type": "code",
   "execution_count": 55,
   "id": "0ffc8014",
   "metadata": {},
   "outputs": [
    {
     "name": "stdout",
     "output_type": "stream",
     "text": [
      "122.96544\n",
      "1.241401\n"
     ]
    }
   ],
   "source": [
    "curconv('EUR', 100)\n",
    "curconv('JPY', 100)"
   ]
  },
  {
   "cell_type": "markdown",
   "id": "df55a554",
   "metadata": {},
   "source": [
    "9.Each of the following will cause an exception (an error). Identify what type ofexception each will cause.\n",
    "\n",
    "adding 6 + ‘a’ --> Type Error\n",
    "\n",
    "Referring to the 12th item of a list that has only 10 --> Index Error\n",
    "\n",
    "Using a value that is out of range for a function’s input --> Value Error\n",
    "\n",
    "Using an undeclared variable --> Name Error\n",
    "\n",
    "Trying to open a file that does not exist --> File Not Found Error"
   ]
  },
  {
   "cell_type": "markdown",
   "id": "a734652b",
   "metadata": {},
   "source": [
    "10.Encryption is the process of hiding the meaning of a text by substituting letters in themessage with other letters, according to some system. If the process is successful, noone but the intended recipient can understand the encrypted message. Cryptanalysisrefers to attempts to undo the encryption, even if some details of the encryption areunknown (for example, if an encrypted message has been intercepted). The first stepof cryptanalysis is often to build up a table of letter frequencies in the encrypted text.Assume that the string letters is already defined as'abcdefghijklmnopqrstuvwxyz'. Write a function called frequencies()that takes a string as its only parameter, and returns a list of integers, showing thenumber of times each character appears in the text. Your function may ignore anycharacters that are not in letters.\n"
   ]
  },
  {
   "cell_type": "code",
   "execution_count": 57,
   "id": "2687db8a",
   "metadata": {},
   "outputs": [],
   "source": [
    "def frequencies(word):\n",
    "    dict_chars = {}\n",
    "    for alphabet in word:\n",
    "        if alphabet.lower() in dict_chars:\n",
    "            dict_chars[alphabet.lower()] = dict_chars[alphabet.lower()] + 1\n",
    "        else:\n",
    "            dict_chars[alphabet.lower()] = 1\n",
    "    for key,values in dict_chars.items():\n",
    "        print('alphabet: ',key,'frequency: ',values)"
   ]
  },
  {
   "cell_type": "code",
   "execution_count": 58,
   "id": "8f0bda5d",
   "metadata": {},
   "outputs": [
    {
     "name": "stdout",
     "output_type": "stream",
     "text": [
      "alphabet:  t frequency:  3\n",
      "alphabet:  h frequency:  2\n",
      "alphabet:  e frequency:  5\n",
      "alphabet:    frequency:  8\n",
      "alphabet:  q frequency:  1\n",
      "alphabet:  u frequency:  1\n",
      "alphabet:  i frequency:  1\n",
      "alphabet:  c frequency:  1\n",
      "alphabet:  k frequency:  1\n",
      "alphabet:  r frequency:  2\n",
      "alphabet:  d frequency:  3\n",
      "alphabet:  f frequency:  1\n",
      "alphabet:  o frequency:  4\n",
      "alphabet:  x frequency:  1\n",
      "alphabet:  g frequency:  1\n",
      "alphabet:  b frequency:  1\n",
      "alphabet:  a frequency:  1\n",
      "alphabet:  n frequency:  2\n",
      "alphabet:  w frequency:  1\n",
      "alphabet:  m frequency:  1\n",
      "alphabet:  . frequency:  1\n"
     ]
    }
   ],
   "source": [
    "frequencies('The quick red fox got bored and went home.')"
   ]
  },
  {
   "cell_type": "code",
   "execution_count": null,
   "id": "25396688",
   "metadata": {},
   "outputs": [],
   "source": []
  }
 ],
 "metadata": {
  "kernelspec": {
   "display_name": "Python 3 (ipykernel)",
   "language": "python",
   "name": "python3"
  },
  "language_info": {
   "codemirror_mode": {
    "name": "ipython",
    "version": 3
   },
   "file_extension": ".py",
   "mimetype": "text/x-python",
   "name": "python",
   "nbconvert_exporter": "python",
   "pygments_lexer": "ipython3",
   "version": "3.11.4"
  }
 },
 "nbformat": 4,
 "nbformat_minor": 5
}
